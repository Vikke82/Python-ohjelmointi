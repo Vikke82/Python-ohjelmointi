{
 "cells": [
  {
   "cell_type": "code",
   "execution_count": 6,
   "metadata": {},
   "outputs": [
    {
     "name": "stdout",
     "output_type": "stream",
     "text": [
      "12\n",
      "5\n"
     ]
    }
   ],
   "source": [
    "# Harjoitus 1: Yksinkertainen funktio\n",
    "# Luo funktio, joka ottaa vastaan kaksi lukua ja palauttaa niiden summan.\n",
    "\n",
    "def summa(a, b):\n",
    "    return a + b\n",
    "\n",
    "# Testaa funktiota\n",
    "print(summa(5, 7))  # odotettu tulos: 12\n",
    "print(summa(-3, 8))  # odotettu tulos: 5\n",
    "\n",
    "\n"
   ]
  },
  {
   "cell_type": "code",
   "execution_count": 7,
   "metadata": {},
   "outputs": [
    {
     "name": "stdout",
     "output_type": "stream",
     "text": [
      "Luku on positiivinen\n",
      "Luku on negatiivinen\n",
      "Luku on nolla\n"
     ]
    }
   ],
   "source": [
    "# Harjoitus 2: Funktio ja ehdolliset lauseet\n",
    "# Luo funktio, joka tarkistaa onko annettu luku positiivinen, negatiivinen vai nolla.\n",
    "\n",
    "def tarkista_luku(luku):\n",
    "    if luku > 0:\n",
    "        return \"Luku on positiivinen\"\n",
    "    elif luku < 0:\n",
    "        return \"Luku on negatiivinen\"\n",
    "    else:\n",
    "        return \"Luku on nolla\"\n",
    "\n",
    "# Testaa funktiota\n",
    "print(tarkista_luku(5))    # odotettu tulos: Luku on positiivinen\n",
    "print(tarkista_luku(-3))   # odotettu tulos: Luku on negatiivinen\n",
    "print(tarkista_luku(0))    # odotettu tulos: Luku on nolla\n",
    "\n",
    "# Tehtävä:\n",
    "# Lisää funktioon validointi, joka tarkistaa, että syöte on numero.\n"
   ]
  },
  {
   "cell_type": "code",
   "execution_count": 8,
   "metadata": {},
   "outputs": [
    {
     "name": "stdout",
     "output_type": "stream",
     "text": [
      "0\n",
      "2\n",
      "4\n",
      "6\n",
      "8\n",
      "10\n"
     ]
    }
   ],
   "source": [
    "# Harjoitus 3: Funktio ja silmukat\n",
    "# Luo funktio, joka ottaa vastaan luvun ja tulostaa kaikki parilliset luvut 0:sta siihen lukuun asti.\n",
    "\n",
    "def tulosta_parilliset(luku):\n",
    "    for i in range(luku + 1):\n",
    "        if i % 2 == 0:\n",
    "            print(i)\n",
    "\n",
    "# Testaa funktiota\n",
    "tulosta_parilliset(10)  # odotettu tulos: 0, 2, 4, 6, 8, 10\n",
    "\n",
    "# Tehtävä:\n",
    "# Muokkaa funktiota niin, että se palauttaa parilliset luvut listana tulostamisen sijaan.\n"
   ]
  },
  {
   "cell_type": "code",
   "execution_count": 9,
   "metadata": {},
   "outputs": [
    {
     "name": "stdout",
     "output_type": "stream",
     "text": [
      "15\n",
      "4\n"
     ]
    }
   ],
   "source": [
    "# Harjoitus 4: Paluuarvot ja argumenttien oletusarvot\n",
    "# Luo funktio, joka laskee suorakulmion pinta-alan. Jos toista sivua ei anneta, oletetaan sen arvoksi 1.\n",
    "\n",
    "def laske_pinta_ala(leveys, korkeus=1):\n",
    "    return leveys * korkeus\n",
    "\n",
    "# Testaa funktiota\n",
    "print(laske_pinta_ala(5, 3))  # odotettu tulos: 15\n",
    "print(laske_pinta_ala(4))     # odotettu tulos: 4\n",
    "\n",
    "# Tehtävä:\n",
    "# Laajenna funktiota niin, että se osaa laskea myös kolmion pinta-alan, jos annetaan kolmannen argumentin arvo \"kolmio\".\n"
   ]
  },
  {
   "cell_type": "code",
   "execution_count": 10,
   "metadata": {},
   "outputs": [
    {
     "name": "stdout",
     "output_type": "stream",
     "text": [
      "120\n",
      "1\n"
     ]
    }
   ],
   "source": [
    "# Harjoitus 5: Rekursio\n",
    "# Luo rekursiivinen funktio, joka laskee annetun luvun kertoman (factorial).\n",
    "\n",
    "def kertoma(n):\n",
    "    if n == 0:\n",
    "        return 1\n",
    "    else:\n",
    "        return n * kertoma(n - 1)\n",
    "\n",
    "# Testaa funktiota\n",
    "print(kertoma(5))  # odotettu tulos: 120\n",
    "print(kertoma(0))  # odotettu tulos: 1\n",
    "\n",
    "# Tehtävä:\n",
    "# Tutki mitä tapahtuu, jos syötät negatiivisen luvun. Lisää virheiden käsittely, joka estää negatiiviset syötteet.\n"
   ]
  },
  {
   "cell_type": "code",
   "execution_count": null,
   "metadata": {},
   "outputs": [],
   "source": []
  }
 ],
 "metadata": {
  "kernelspec": {
   "display_name": "Python 3",
   "language": "python",
   "name": "python3"
  },
  "language_info": {
   "codemirror_mode": {
    "name": "ipython",
    "version": 3
   },
   "file_extension": ".py",
   "mimetype": "text/x-python",
   "name": "python",
   "nbconvert_exporter": "python",
   "pygments_lexer": "ipython3",
   "version": "3.11.9"
  }
 },
 "nbformat": 4,
 "nbformat_minor": 2
}
