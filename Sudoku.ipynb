{
 "cells": [
  {
   "cell_type": "code",
   "execution_count": 82,
   "metadata": {},
   "outputs": [],
   "source": [
    "sudoku  = [\n",
    "    [0, 0, 0, 0, 0, 0, 0, 0, 0],\n",
    "    [0, 0, 0, 0, 0, 0, 0, 0, 0],\n",
    "    [0, 0, 0, 0, 0, 0, 0, 0, 0],\n",
    "    [0, 0, 0, 0, 0, 0, 0, 0, 0],\n",
    "    [0, 0, 0, 0, 0, 0, 0, 0, 0],\n",
    "    [0, 0, 0, 0, 0, 0, 0, 0, 0],\n",
    "    [0, 0, 0, 0, 0, 0, 0, 0, 0],\n",
    "    [0, 0, 0, 0, 0, 0, 0, 0, 0],\n",
    "    [0, 0, 0, 0, 0, 0, 0, 0, 0]\n",
    "]"
   ]
  },
  {
   "cell_type": "code",
   "execution_count": 83,
   "metadata": {},
   "outputs": [],
   "source": [
    "def lisaa(sudoku, rivi, sarake, luku):\n",
    "    sudoku[rivi][sarake] = luku"
   ]
  },
  {
   "cell_type": "code",
   "execution_count": 84,
   "metadata": {},
   "outputs": [],
   "source": [
    "def tulosta_sudoku(sudoku):\n",
    "    print(\"-\"*25)\n",
    "    for r, rivi in enumerate(sudoku):\n",
    "        print('|', end=' ')\n",
    "        for i, alkio in enumerate(rivi):\n",
    "            print(alkio, end=' ')\n",
    "            if i == 2 or i == 5:\n",
    "                print('|', end=' ')\n",
    "        print('|', end=' ')\n",
    "        print()\n",
    "        if r == 2 or r == 5:\n",
    "            print(\"-\"*25)\n",
    "    print(\"-\"*25)"
   ]
  },
  {
   "cell_type": "code",
   "execution_count": 85,
   "metadata": {},
   "outputs": [],
   "source": [
    "lisaa(sudoku, 0, 0, 1)\n",
    "lisaa(sudoku, 2, 3, 6)\n",
    "lisaa(sudoku, 5, 4, 7)"
   ]
  },
  {
   "cell_type": "code",
   "execution_count": 86,
   "metadata": {},
   "outputs": [
    {
     "name": "stdout",
     "output_type": "stream",
     "text": [
      "-------------------------\n",
      "| 1 0 0 | 0 0 0 | 0 0 0 | \n",
      "| 0 0 0 | 0 0 0 | 0 0 0 | \n",
      "| 0 0 0 | 6 0 0 | 0 0 0 | \n",
      "-------------------------\n",
      "| 0 0 0 | 0 0 0 | 0 0 0 | \n",
      "| 0 0 0 | 0 0 0 | 0 0 0 | \n",
      "| 0 0 0 | 0 7 0 | 0 0 0 | \n",
      "-------------------------\n",
      "| 0 0 0 | 0 0 0 | 0 0 0 | \n",
      "| 0 0 0 | 0 0 0 | 0 0 0 | \n",
      "| 0 0 0 | 0 0 0 | 0 0 0 | \n",
      "-------------------------\n"
     ]
    }
   ],
   "source": [
    "tulosta_sudoku(sudoku)\n",
    "    "
   ]
  }
 ],
 "metadata": {
  "kernelspec": {
   "display_name": "Python 3",
   "language": "python",
   "name": "python3"
  },
  "language_info": {
   "codemirror_mode": {
    "name": "ipython",
    "version": 3
   },
   "file_extension": ".py",
   "mimetype": "text/x-python",
   "name": "python",
   "nbconvert_exporter": "python",
   "pygments_lexer": "ipython3",
   "version": "3.12.3"
  }
 },
 "nbformat": 4,
 "nbformat_minor": 2
}
