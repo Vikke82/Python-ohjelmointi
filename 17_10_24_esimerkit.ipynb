{
 "cells": [
  {
   "cell_type": "markdown",
   "metadata": {},
   "source": [
    "For-luupin avulla tulostetaan kahden potensseja\n"
   ]
  },
  {
   "cell_type": "code",
   "execution_count": 1,
   "metadata": {},
   "outputs": [
    {
     "name": "stdout",
     "output_type": "stream",
     "text": [
      "1\n",
      "2\n",
      "4\n",
      "8\n",
      "16\n",
      "32\n",
      "64\n",
      "128\n",
      "256\n",
      "512\n"
     ]
    }
   ],
   "source": [
    "for i in range(10):\n",
    "    print(2**i)"
   ]
  },
  {
   "cell_type": "markdown",
   "metadata": {},
   "source": [
    "Sama While-luupilla. Huomioi while-ehdossa yhtäsuuruusmerkki, joka vaikuttaa siihen suoritetaanko yksi ylimääräinen kierros\n"
   ]
  },
  {
   "cell_type": "code",
   "execution_count": 8,
   "metadata": {},
   "outputs": [
    {
     "name": "stdout",
     "output_type": "stream",
     "text": [
      "1\n",
      "2\n",
      "4\n",
      "8\n",
      "16\n",
      "32\n",
      "64\n",
      "128\n",
      "256\n",
      "512\n",
      "1024\n"
     ]
    }
   ],
   "source": [
    "i = 0\n",
    "while i <= 10:\n",
    "    print(2**i)\n",
    "    i += 1"
   ]
  },
  {
   "cell_type": "code",
   "execution_count": 24,
   "metadata": {},
   "outputs": [
    {
     "name": "stdout",
     "output_type": "stream",
     "text": [
      "a indeksi: 10\n",
      "m indeksi: 9\n",
      "l indeksi: 8\n",
      "i indeksi: 7\n",
      "a indeksi: 6\n",
      "a indeksi: 5\n",
      "m indeksi: 4\n",
      "  indeksi: 3\n",
      "i indeksi: 2\n",
      "e indeksi: 1\n",
      "h indeksi: 0\n"
     ]
    }
   ],
   "source": [
    "merkkijono = \"hei maailma\"\n",
    "\n",
    "start = len(merkkijono) - 1\n",
    "end = -1\n",
    "step = -1\n",
    "\n",
    "\n",
    "for i in range(start, end, step):\n",
    "    print(merkkijono[i]+ \" indeksi: \" + str(i))\n",
    "    \n",
    "    "
   ]
  },
  {
   "cell_type": "code",
   "execution_count": 33,
   "metadata": {},
   "outputs": [
    {
     "name": "stdout",
     "output_type": "stream",
     "text": [
      "11\n",
      "h indeksi: 0\n",
      "e indeksi: 1\n",
      "i indeksi: 2\n",
      "  indeksi: 3\n",
      "m indeksi: 4\n",
      "a indeksi: 5\n",
      "a indeksi: 6\n",
      "i indeksi: 7\n",
      "l indeksi: 8\n",
      "m indeksi: 9\n",
      "a indeksi: 10\n"
     ]
    }
   ],
   "source": [
    "merkkijono = \"hei maailma\"\n",
    "i = 0\n",
    "end = (len(merkkijono)) \n",
    "print(end)\n",
    "\n",
    "while i < end:\n",
    "    print(merkkijono[i]+ \" indeksi: \" + str(i))\n",
    "    i += 1\n",
    "    "
   ]
  },
  {
   "cell_type": "code",
   "execution_count": 31,
   "metadata": {},
   "outputs": [
    {
     "name": "stdout",
     "output_type": "stream",
     "text": [
      "11\n",
      "-11\n",
      "a indeksi: -1\n",
      "m indeksi: -2\n",
      "l indeksi: -3\n",
      "i indeksi: -4\n",
      "a indeksi: -5\n",
      "a indeksi: -6\n",
      "m indeksi: -7\n",
      "  indeksi: -8\n",
      "i indeksi: -9\n",
      "e indeksi: -10\n"
     ]
    }
   ],
   "source": [
    "merkkijono = \"hei maailma\"\n",
    "print(len(merkkijono))\n",
    "i = -1\n",
    "end = (len(merkkijono)) * -1\n",
    "print(end)\n",
    "\n",
    "while i > end:\n",
    "    print(merkkijono[i]+ \" indeksi: \" + str(i))\n",
    "    i -= 1\n",
    "    "
   ]
  },
  {
   "cell_type": "code",
   "execution_count": 6,
   "metadata": {},
   "outputs": [
    {
     "name": "stdout",
     "output_type": "stream",
     "text": [
      "******************************\n",
      "************kissa*************\n",
      "******************************\n"
     ]
    }
   ],
   "source": [
    "sana = \"kissa\"\n",
    "\n",
    "välivasen = int((30 - len(sana))/2)\n",
    "välioikea = 30 - len(sana) - välivasen\n",
    "\n",
    "print(\"*\" * 30)\n",
    "print(\"*\" * välivasen + sana + \"*\" * välioikea)\n",
    "print(\"*\" * 30)"
   ]
  }
 ],
 "metadata": {
  "kernelspec": {
   "display_name": "Python 3",
   "language": "python",
   "name": "python3"
  },
  "language_info": {
   "codemirror_mode": {
    "name": "ipython",
    "version": 3
   },
   "file_extension": ".py",
   "mimetype": "text/x-python",
   "name": "python",
   "nbconvert_exporter": "python",
   "pygments_lexer": "ipython3",
   "version": "3.12.3"
  }
 },
 "nbformat": 4,
 "nbformat_minor": 2
}
