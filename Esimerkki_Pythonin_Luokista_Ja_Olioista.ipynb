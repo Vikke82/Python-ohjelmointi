{
 "cells": [
  {
   "cell_type": "markdown",
   "metadata": {},
   "source": [
    "# Olio-ominaisuudet, luokat ja oliorakenteet Pythonissa\n",
    "\n",
    "Tässä Jupyter Notebookissa havainnollistetaan Pythonin olio-ohjelmoinnin perusteita, kuten luokkia, periytymistä ja olioiden käyttöä yksinkertaisen eläinesimerkin avulla.\n"
   ]
  },
  {
   "cell_type": "markdown",
   "metadata": {},
   "source": [
    "## 1. Luokan määrittely\n",
    "\n",
    "Määrittelemme ensin yleisen luokan `Animal`, joka edustaa perusominaisuuksia kaikille eläimille.\n"
   ]
  },
  {
   "cell_type": "code",
   "execution_count": 1,
   "metadata": {},
   "outputs": [],
   "source": [
    "class Animal:\n",
    "    def __init__(self, name, age):\n",
    "        self.name = name  # Olion nimi\n",
    "        self.age = age    # Olion ikä\n",
    "    \n",
    "    def make_sound(self):\n",
    "        return \"Ääni\"\n",
    "    \n",
    "    def __str__(self):\n",
    "        return f'{self.name}, ikä: {self.age}'\n"
   ]
  },
  {
   "cell_type": "markdown",
   "metadata": {},
   "source": [
    "Tämä `Animal`-luokka sisältää konstruktorin `__init__`, joka asettaa jokaiselle oliolle nimen ja iän. Lisäksi siinä on `make_sound`-metodi, joka palauttaa oletusarvoisesti tekstin \"Ääni\".\n"
   ]
  },
  {
   "cell_type": "markdown",
   "metadata": {},
   "source": [
    "## 2. Periytyminen\n",
    "\n",
    "Tehdään luokkia, jotka periytyvät `Animal`-luokasta. Esimerkiksi luodaan luokat `Dog` ja `Cat`, joilla on omat metodit.\n"
   ]
  },
  {
   "cell_type": "code",
   "execution_count": 2,
   "metadata": {},
   "outputs": [],
   "source": [
    "class Dog(Animal):\n",
    "    def make_sound(self):\n",
    "        return \"Hau hau\"\n",
    "    \n",
    "    def fetch(self, item):\n",
    "        return f'{self.name} tuo {item} takaisin!'\n",
    "\n",
    "class Cat(Animal):\n",
    "    def make_sound(self):\n",
    "        return \"Miau\"\n",
    "    \n",
    "    def scratch(self):\n",
    "        return f'{self.name} raapii!'\n"
   ]
  },
  {
   "cell_type": "markdown",
   "metadata": {},
   "source": [
    "Näissä aliluokissa `make_sound`-metodi on ylikirjoitettu niin, että koira sanoo \"Hau hau\" ja kissa sanoo \"Miau\". Lisäksi niillä on omia metodeja, kuten `fetch` koirille ja `scratch` kissoille.\n"
   ]
  },
  {
   "cell_type": "markdown",
   "metadata": {},
   "source": [
    "## 3. Olioiden luonti ja käyttö\n",
    "\n",
    "Luodaan nyt olioita näistä luokista ja käytetään niiden ominaisuuksia ja metodeja.\n"
   ]
  },
  {
   "cell_type": "code",
   "execution_count": 3,
   "metadata": {},
   "outputs": [
    {
     "name": "stdout",
     "output_type": "stream",
     "text": [
      "Rex, ikä: 5\n",
      "Hau hau\n",
      "Rex tuo pallo takaisin!\n",
      "Misu, ikä: 3\n",
      "Miau\n",
      "Misu raapii!\n"
     ]
    }
   ],
   "source": [
    "# Luodaan olioita\n",
    "koira = Dog(name=\"Rex\", age=5)\n",
    "kissa = Cat(name=\"Misu\", age=3)\n",
    "\n",
    "# Käytetään olioiden metodeja\n",
    "print(koira)  # Tulostaa: Rex, ikä: 5\n",
    "print(koira.make_sound())  # Tulostaa: Hau hau\n",
    "print(koira.fetch(\"pallo\"))  # Tulostaa: Rex tuo pallo takaisin!\n",
    "\n",
    "print(kissa)  # Tulostaa: Misu, ikä: 3\n",
    "print(kissa.make_sound())  # Tulostaa: Miau\n",
    "print(kissa.scratch())  # Tulostaa: Misu raapii!\n"
   ]
  },
  {
   "cell_type": "markdown",
   "metadata": {},
   "source": [
    "## 4. Yhteenveto\n",
    "\n",
    "- **Luokat ja oliot:** `Animal`, `Dog`, ja `Cat` ovat luokkia, joista voidaan luoda olioita. `koira` ja `kissa` ovat esimerkkejä olioista.\n",
    "- **Ominaisuudet:** Olioilla on ominaisuuksia, kuten nimi ja ikä, jotka määritetään luokan konstruktorissa ja jotka ovat luokan attribuutteja.\n",
    "- **Periytyminen:** `Dog` ja `Cat` perivät `Animal`-luokan ominaisuudet ja metodit, mutta voivat ylikirjoittaa ne (esim. `make_sound`-metodi).\n",
    "- **Metodit:** Luokkien sisällä olevat funktiot, kuten `make_sound`, `fetch` ja `scratch`, kuvaavat olioiden käyttäytymistä.\n"
   ]
  }
 ],
 "metadata": {
  "kernelspec": {
   "display_name": "Python 3",
   "language": "python",
   "name": "python3"
  },
  "language_info": {
   "codemirror_mode": {
    "name": "ipython",
    "version": 3
   },
   "file_extension": ".py",
   "mimetype": "text/x-python",
   "name": "python",
   "nbconvert_exporter": "python",
   "pygments_lexer": "ipython3",
   "version": "3.11.9"
  }
 },
 "nbformat": 4,
 "nbformat_minor": 2
}
