{
 "cells": [
  {
   "cell_type": "markdown",
   "id": "e04ff6a8",
   "metadata": {},
   "source": [
    "# Python Sanakirja - Harjoituksia\n"
   ]
  },
  {
   "cell_type": "markdown",
   "id": "1f6a4e41",
   "metadata": {},
   "source": [
    "Tässä Jupyter Notebookissa harjoittellaan Pythonin sanakirjojen (Dictionary) käyttöä. Sanakirjat ovat tehokkaita rakenteita tietojen tallentamiseen avain-arvo-pareina (keys, values).\n"
   ]
  },
  {
   "cell_type": "markdown",
   "id": "084fd635",
   "metadata": {},
   "source": [
    "## Harjoitus 1: Sanakirjan luominen ja peruskäyttö\n"
   ]
  },
  {
   "cell_type": "markdown",
   "id": "cf636a59",
   "metadata": {},
   "source": [
    "1. Luo sanakirja, joka sisältää seuraavat tiedot:\n",
    "   - Avain: `\"nimi\"`, Arvo: `\"Matti\"`\n",
    "   - Avain: `\"ikä\"`, Arvo: `25`\n",
    "   - Avain: `\"kaupunki\"`, Arvo: `\"Helsinki\"`\n",
    "2. Tulosta sanakirja.\n",
    "3. Hae ja tulosta sanakirjasta henkilön nimi.\n"
   ]
  },
  {
   "cell_type": "code",
   "execution_count": 13,
   "id": "3e43f925",
   "metadata": {},
   "outputs": [
    {
     "name": "stdout",
     "output_type": "stream",
     "text": [
      "Sanakirja: {'nimi': 'Matti', 'ikä': 25, 'kaupunki': 'Helsinki'}\n",
      "Nimi: Matti\n"
     ]
    }
   ],
   "source": [
    "\n",
    "# Luodaan sanakirja (dictionary) henkilo, jossa on avaimina nimi, ikä ja kaupunki\n",
    "henkilo = {\"nimi\": \"Matti\", \"ikä\": 25, \"kaupunki\": \"Helsinki\"}\n",
    "print(\"Sanakirja:\", henkilo)\n",
    "print(\"Nimi:\", henkilo[\"nimi\"])\n"
   ]
  },
  {
   "cell_type": "markdown",
   "id": "5ec28ce1",
   "metadata": {},
   "source": [
    "## Harjoitus 2: Arvojen lisääminen ja muokkaaminen\n"
   ]
  },
  {
   "cell_type": "markdown",
   "id": "11dbce4e",
   "metadata": {},
   "source": [
    "1. Lisää sanakirjaan uusi avain-arvo-pareina:\n",
    "   - Avain: `\"ammatti\"`, Arvo: `\"insinööri\"`\n",
    "2. Päivitä henkilön ikä arvoon `26`.\n",
    "3. Tulosta päivitetty sanakirja.\n"
   ]
  },
  {
   "cell_type": "code",
   "execution_count": 14,
   "id": "05559c7b",
   "metadata": {},
   "outputs": [
    {
     "name": "stdout",
     "output_type": "stream",
     "text": [
      "Päivitetty sanakirja: {'nimi': 'Matti', 'ikä': 26, 'kaupunki': 'Helsinki', 'ammatti': 'insinööri'}\n"
     ]
    }
   ],
   "source": [
    "\n",
    "# Harjoituksen ratkaisu\n",
    "henkilo[\"ammatti\"] = \"insinööri\"\n",
    "henkilo[\"ikä\"] = 26\n",
    "print(\"Päivitetty sanakirja:\", henkilo)\n"
   ]
  },
  {
   "cell_type": "markdown",
   "id": "d9021414",
   "metadata": {},
   "source": [
    "## Harjoitus 3: Sanakirjan läpikäyminen\n"
   ]
  },
  {
   "cell_type": "markdown",
   "id": "0cfd6e7d",
   "metadata": {},
   "source": [
    "1. Käy sanakirjan kaikki avaimet ja arvot läpi käyttäen `for`-silmukkaa.\n",
    "2. Tulosta jokainen avain ja arvo muodossa `\"avain: arvo\"`.\n"
   ]
  },
  {
   "cell_type": "code",
   "execution_count": 15,
   "id": "eb7f9d61",
   "metadata": {},
   "outputs": [
    {
     "name": "stdout",
     "output_type": "stream",
     "text": [
      "nimi: Matti\n",
      "ikä: 26\n",
      "kaupunki: Helsinki\n",
      "ammatti: insinööri\n"
     ]
    }
   ],
   "source": [
    "\n",
    "# Harjoituksen ratkaisu\n",
    "for avain, arvo in henkilo.items():\n",
    "    print(f\"{avain}: {arvo}\")\n"
   ]
  },
  {
   "cell_type": "markdown",
   "id": "1e539d9c",
   "metadata": {},
   "source": [
    "## Harjoitus 4: Sisäkkäiset sanakirjat\n"
   ]
  },
  {
   "cell_type": "markdown",
   "id": "bd29edfe",
   "metadata": {},
   "source": [
    "1. Luo sanakirja, joka sisältää tietoa kahdesta henkilöstä seuraavasti:\n",
    "   ```python\n",
    "   ihmiset = {\n",
    "       \"henkilo1\": {\"nimi\": \"Matti\", \"ikä\": 26, \"kaupunki\": \"Helsinki\"},\n",
    "       \"henkilo2\": {\"nimi\": \"Liisa\", \"ikä\": 30, \"kaupunki\": \"Tampere\"}\n",
    "   }\n",
    "   ```\n",
    "2. Tulosta molempien henkilöiden tiedot.\n",
    "3. Tulosta Liisan kaupunki.\n"
   ]
  },
  {
   "cell_type": "code",
   "execution_count": 16,
   "id": "42f8f30f",
   "metadata": {},
   "outputs": [
    {
     "name": "stdout",
     "output_type": "stream",
     "text": [
      "Molempien tiedot: {'henkilo1': {'nimi': 'Matti', 'ikä': 26, 'kaupunki': 'Helsinki'}, 'henkilo2': {'nimi': 'Liisa', 'ikä': 30, 'kaupunki': 'Tampere'}}\n",
      "Liisan kaupunki: Tampere\n"
     ]
    }
   ],
   "source": [
    "\n",
    "# Harjoituksen ratkaisu\n",
    "ihmiset = {\n",
    "    \"henkilo1\": {\"nimi\": \"Matti\", \"ikä\": 26, \"kaupunki\": \"Helsinki\"},\n",
    "    \"henkilo2\": {\"nimi\": \"Liisa\", \"ikä\": 30, \"kaupunki\": \"Tampere\"}\n",
    "}\n",
    "print(\"Molempien tiedot:\", ihmiset)\n",
    "print(\"Liisan kaupunki:\", ihmiset[\"henkilo2\"][\"kaupunki\"])\n"
   ]
  },
  {
   "cell_type": "markdown",
   "id": "d5f9ead5",
   "metadata": {},
   "source": [
    "## Harjoitus 5: Sanakirjan metodit\n"
   ]
  },
  {
   "cell_type": "markdown",
   "id": "7dd3bc1e",
   "metadata": {},
   "source": [
    "1. Käytä seuraavia metodeja ja näytä niiden tulokset:\n",
    "   - `keys()` - Tulostaa kaikki sanakirjan avaimet.\n",
    "   - `values()` - Tulostaa kaikki sanakirjan arvot.\n",
    "   - `get()` - Hae henkilön ammatti käyttäen `get`-metodia.\n",
    "2. Poista avain `\"kaupunki\"` sanakirjasta.\n"
   ]
  },
  {
   "cell_type": "code",
   "execution_count": 17,
   "id": "222fc581",
   "metadata": {},
   "outputs": [
    {
     "name": "stdout",
     "output_type": "stream",
     "text": [
      "Avaimet: dict_keys(['nimi', 'ikä', 'kaupunki', 'ammatti'])\n",
      "Arvot: dict_values(['Matti', 26, 'Helsinki', 'insinööri'])\n",
      "Ammatti: insinööri\n",
      "Sanakirja ilman kaupunkia: {'nimi': 'Matti', 'ikä': 26, 'ammatti': 'insinööri'}\n"
     ]
    }
   ],
   "source": [
    "\n",
    "# Harjoituksen ratkaisu\n",
    "print(\"Avaimet:\", henkilo.keys())\n",
    "print(\"Arvot:\", henkilo.values())\n",
    "print(\"Ammatti:\", henkilo.get(\"ammatti\"))\n",
    "henkilo.pop(\"kaupunki\")\n",
    "print(\"Sanakirja ilman kaupunkia:\", henkilo)\n"
   ]
  },
  {
   "cell_type": "markdown",
   "id": "bab4238b",
   "metadata": {},
   "source": [
    "Sanakirjoja voidaan muuntaa eri muotoihin kuten esimerkiksi JSON-muotoon:\n"
   ]
  },
  {
   "cell_type": "code",
   "execution_count": 18,
   "id": "226cb9a7",
   "metadata": {},
   "outputs": [
    {
     "name": "stdout",
     "output_type": "stream",
     "text": [
      "{\"nimi\": \"Matti\", \"ik\\u00e4\": 26, \"kaupunki\": \"Helsinki\"}\n",
      "UTF-8-muoto: {\"nimi\": \"Matti\", \"ikä\": 26, \"kaupunki\": \"Helsinki\"}\n"
     ]
    }
   ],
   "source": [
    "import json\n",
    "\n",
    "# Esimerkkisanakirja\n",
    "sanakirja = {\n",
    "    \"nimi\": \"Matti\",\n",
    "    \"ikä\": 26,\n",
    "    \"kaupunki\": \"Helsinki\"\n",
    "}\n",
    "\n",
    "# Muunna JSON-muotoon\n",
    "json_muoto = json.dumps(sanakirja)\n",
    "\n",
    "# Tulosta JSON-muotoinen data\n",
    "print(json_muoto)\n",
    "\n",
    "# Muunna JSON-muotoon ilman Unicode-escapeja\n",
    "json_muoto_utf8 = json.dumps(sanakirja, ensure_ascii=False)\n",
    "print(\"UTF-8-muoto:\", json_muoto_utf8)\n"
   ]
  },
  {
   "cell_type": "code",
   "execution_count": 19,
   "id": "e101207f",
   "metadata": {},
   "outputs": [],
   "source": [
    "# Tallenna JSON-tiedosto UTF-8-merkistökoodauksella\n",
    "with open(\"data.json\", \"w\", encoding=\"utf-8\") as tiedosto:\n",
    "    json.dump(sanakirja, tiedosto, ensure_ascii=False)\n",
    "\n"
   ]
  },
  {
   "cell_type": "markdown",
   "id": "d5c8da4e",
   "metadata": {},
   "source": [
    "JSON-tiedoston lukeminen sanakirjaksi\n"
   ]
  },
  {
   "cell_type": "code",
   "execution_count": 20,
   "id": "144507d0",
   "metadata": {},
   "outputs": [
    {
     "name": "stdout",
     "output_type": "stream",
     "text": [
      "{'nimi': 'Matti', 'ikä': 26, 'kaupunki': 'Helsinki'}\n",
      "Nimi: Matti\n"
     ]
    }
   ],
   "source": [
    "import json\n",
    "\n",
    "# Lue JSON tiedostosta\n",
    "with open(\"data.json\", \"r\", encoding=\"utf-8\") as tiedosto:\n",
    "    sanakirja = json.load(tiedosto)\n",
    "\n",
    "# Tulosta sanakirja\n",
    "print(sanakirja)\n",
    "print(\"Nimi:\", sanakirja[\"nimi\"])\n"
   ]
  },
  {
   "cell_type": "markdown",
   "id": "5691ae97",
   "metadata": {},
   "source": [
    "| **Ominaisuus**          | **Python-sanakirja**                                                             | **JSON**                                                                                     |\n",
    "| ----------------------- | -------------------------------------------------------------------------------- | -------------------------------------------------------------------------------------------- |\n",
    "| **Määritelmä**          | Pythonin sisäänrakennettu tietorakenne avain-arvo-pareille.                      | Yleiskäyttöinen tiedostomuoto ja tiedonvaihtostandardi.                                      |\n",
    "| **Käyttöympäristö**     | Toimii vain Pythonissa.                                                          | Tuettu monissa ohjelmointikielissä.                                                          |\n",
    "| **Avaimet**             | Avaimet voivat olla mitä tahansa hashattavaa (esim. `str`, `int`, `tuple`).      | Avainten täytyy olla merkkijonoja.                                                           |\n",
    "| **Muoto**               | Pythonin syntaksi (esim. yksinkertaiset heittomerkit `'`).                       | JSON-syntaksi (esim. tuplahainausmerkit `\"`).                                                |\n",
    "| **Merkistökoodaus**     | Käyttää Pythonin sisäistä Unicode-tukea.                                         | Käyttää UTF-8 tai Unicode-määritystä.                                                        |\n",
    "| **Tallennus ja siirto** | Ei suoraan tiedostomuoto.                                                        | Käytetään tiedoston tai verkkoviestinnän formaattina.                                        |\n",
    "| **Tyyppien tuki**       | Tukee Pythonin monipuolisia tyyppejä, kuten `set`, `tuple`, `int`, `float`, jne. | Tukee rajallisesti tyyppejä: objektit, listat, numerot, merkkijonot, `true`/`false`, `null`. |\n"
   ]
  },
  {
   "cell_type": "markdown",
   "id": "01afd565",
   "metadata": {},
   "source": [
    "Toinen hyödyllinen dataformaatti liittyen sanakirjojen käyttöön on Pandas Dataframe. Asenna Pandas pip install pandas komennolla. Käytetään paljon data-analyysissa ja relaatiotietokantojen kanssa.\n"
   ]
  },
  {
   "cell_type": "code",
   "execution_count": 21,
   "id": "b75f78fe",
   "metadata": {},
   "outputs": [
    {
     "name": "stdout",
     "output_type": "stream",
     "text": [
      "Sanakirjasta DataFrameksi:\n",
      "    Nimi  Ikä  Kaupunki\n",
      "0  Matti   25  Helsinki\n",
      "1  Liisa   30   Tampere\n",
      "2  Pekka   22     Turku\n",
      "\n",
      "DataFrame takaisin sanakirjaksi:\n",
      "{'Nimi': {0: 'Matti', 1: 'Liisa', 2: 'Pekka'}, 'Ikä': {0: 25, 1: 30, 2: 22}, 'Kaupunki': {0: 'Helsinki', 1: 'Tampere', 2: 'Turku'}}\n",
      "\n",
      "DataFrame sanakirjaksi riveittäin:\n",
      "{0: {'Nimi': 'Matti', 'Ikä': 25, 'Kaupunki': 'Helsinki'}, 1: {'Nimi': 'Liisa', 'Ikä': 30, 'Kaupunki': 'Tampere'}, 2: {'Nimi': 'Pekka', 'Ikä': 22, 'Kaupunki': 'Turku'}}\n"
     ]
    }
   ],
   "source": [
    "import pandas as pd\n",
    "\n",
    "# 1. Sanakirja, jossa avaimina sarakkeiden nimet ja arvoina listat\n",
    "sanakirja = {\n",
    "    \"Nimi\": [\"Matti\", \"Liisa\", \"Pekka\"],\n",
    "    \"Ikä\": [25, 30, 22],\n",
    "    \"Kaupunki\": [\"Helsinki\", \"Tampere\", \"Turku\"]\n",
    "}\n",
    "\n",
    "# Muunna sanakirja DataFrameksi\n",
    "df = pd.DataFrame(sanakirja)\n",
    "print(\"Sanakirjasta DataFrameksi:\")\n",
    "print(df)\n",
    "\n",
    "# 2. Muunna DataFrame takaisin sanakirjaksi\n",
    "sanakirja_takaisin = df.to_dict()\n",
    "print(\"\\nDataFrame takaisin sanakirjaksi:\")\n",
    "print(sanakirja_takaisin)\n",
    "\n",
    "# 3. Muunna DataFrame sanakirjaksi, jossa avaimena rivien indeksit\n",
    "sanakirja_riveittain = df.to_dict(orient=\"index\")\n",
    "print(\"\\nDataFrame sanakirjaksi riveittäin:\")\n",
    "print(sanakirja_riveittain)\n"
   ]
  }
 ],
 "metadata": {
  "kernelspec": {
   "display_name": "Python 3",
   "language": "python",
   "name": "python3"
  },
  "language_info": {
   "codemirror_mode": {
    "name": "ipython",
    "version": 3
   },
   "file_extension": ".py",
   "mimetype": "text/x-python",
   "name": "python",
   "nbconvert_exporter": "python",
   "pygments_lexer": "ipython3",
   "version": "3.12.3"
  }
 },
 "nbformat": 4,
 "nbformat_minor": 5
}
