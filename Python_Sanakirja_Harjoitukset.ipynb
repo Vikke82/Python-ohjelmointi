{
 "cells": [
  {
   "cell_type": "markdown",
   "id": "e04ff6a8",
   "metadata": {},
   "source": [
    "# Python Sanakirja - Harjoituksia\n"
   ]
  },
  {
   "cell_type": "markdown",
   "id": "1f6a4e41",
   "metadata": {},
   "source": [
    "Tässä Jupyter Notebookissa harjoittelemme Pythonin sanakirjojen käyttöä. Sanakirjat ovat tehokkaita rakenteita tietojen tallentamiseen avain-arvo-pareina.\n"
   ]
  },
  {
   "cell_type": "markdown",
   "id": "084fd635",
   "metadata": {},
   "source": [
    "## Harjoitus 1: Sanakirjan luominen ja peruskäyttö\n"
   ]
  },
  {
   "cell_type": "markdown",
   "id": "cf636a59",
   "metadata": {},
   "source": [
    "1. Luo sanakirja, joka sisältää seuraavat tiedot:\n",
    "   - Avain: `\"nimi\"`, Arvo: `\"Matti\"`\n",
    "   - Avain: `\"ikä\"`, Arvo: `25`\n",
    "   - Avain: `\"kaupunki\"`, Arvo: `\"Helsinki\"`\n",
    "2. Tulosta sanakirja.\n",
    "3. Hae ja tulosta sanakirjasta henkilön nimi.\n"
   ]
  },
  {
   "cell_type": "code",
   "execution_count": 1,
   "id": "3e43f925",
   "metadata": {},
   "outputs": [
    {
     "name": "stdout",
     "output_type": "stream",
     "text": [
      "Sanakirja: {'nimi': 'Matti', 'ikä': 25, 'kaupunki': 'Helsinki'}\n",
      "Nimi: Matti\n"
     ]
    }
   ],
   "source": [
    "\n",
    "# Harjoituksen ratkaisu\n",
    "henkilo = {\"nimi\": \"Matti\", \"ikä\": 25, \"kaupunki\": \"Helsinki\"}\n",
    "print(\"Sanakirja:\", henkilo)\n",
    "print(\"Nimi:\", henkilo[\"nimi\"])\n"
   ]
  },
  {
   "cell_type": "markdown",
   "id": "5ec28ce1",
   "metadata": {},
   "source": [
    "## Harjoitus 2: Arvojen lisääminen ja muokkaaminen\n"
   ]
  },
  {
   "cell_type": "markdown",
   "id": "11dbce4e",
   "metadata": {},
   "source": [
    "1. Lisää sanakirjaan uusi avain-arvo-pareina:\n",
    "   - Avain: `\"ammatti\"`, Arvo: `\"insinööri\"`\n",
    "2. Päivitä henkilön ikä arvoon `26`.\n",
    "3. Tulosta päivitetty sanakirja.\n"
   ]
  },
  {
   "cell_type": "code",
   "execution_count": 2,
   "id": "05559c7b",
   "metadata": {},
   "outputs": [
    {
     "name": "stdout",
     "output_type": "stream",
     "text": [
      "Päivitetty sanakirja: {'nimi': 'Matti', 'ikä': 26, 'kaupunki': 'Helsinki', 'ammatti': 'insinööri'}\n"
     ]
    }
   ],
   "source": [
    "\n",
    "# Harjoituksen ratkaisu\n",
    "henkilo[\"ammatti\"] = \"insinööri\"\n",
    "henkilo[\"ikä\"] = 26\n",
    "print(\"Päivitetty sanakirja:\", henkilo)\n"
   ]
  },
  {
   "cell_type": "markdown",
   "id": "d9021414",
   "metadata": {},
   "source": [
    "## Harjoitus 3: Sanakirjan läpikäyminen\n"
   ]
  },
  {
   "cell_type": "markdown",
   "id": "0cfd6e7d",
   "metadata": {},
   "source": [
    "1. Käy sanakirjan kaikki avaimet ja arvot läpi käyttäen `for`-silmukkaa.\n",
    "2. Tulosta jokainen avain ja arvo muodossa `\"avain: arvo\"`.\n"
   ]
  },
  {
   "cell_type": "code",
   "execution_count": 3,
   "id": "eb7f9d61",
   "metadata": {},
   "outputs": [
    {
     "name": "stdout",
     "output_type": "stream",
     "text": [
      "nimi: Matti\n",
      "ikä: 26\n",
      "kaupunki: Helsinki\n",
      "ammatti: insinööri\n"
     ]
    }
   ],
   "source": [
    "\n",
    "# Harjoituksen ratkaisu\n",
    "for avain, arvo in henkilo.items():\n",
    "    print(f\"{avain}: {arvo}\")\n"
   ]
  },
  {
   "cell_type": "markdown",
   "id": "1e539d9c",
   "metadata": {},
   "source": [
    "## Harjoitus 4: Sisäkkäiset sanakirjat\n"
   ]
  },
  {
   "cell_type": "markdown",
   "id": "bd29edfe",
   "metadata": {},
   "source": [
    "1. Luo sanakirja, joka sisältää tietoa kahdesta henkilöstä seuraavasti:\n",
    "   ```python\n",
    "   ihmiset = {\n",
    "       \"henkilo1\": {\"nimi\": \"Matti\", \"ikä\": 26, \"kaupunki\": \"Helsinki\"},\n",
    "       \"henkilo2\": {\"nimi\": \"Liisa\", \"ikä\": 30, \"kaupunki\": \"Tampere\"}\n",
    "   }\n",
    "   ```\n",
    "2. Tulosta molempien henkilöiden tiedot.\n",
    "3. Tulosta Liisan kaupunki.\n"
   ]
  },
  {
   "cell_type": "code",
   "execution_count": 4,
   "id": "42f8f30f",
   "metadata": {},
   "outputs": [
    {
     "name": "stdout",
     "output_type": "stream",
     "text": [
      "Molempien tiedot: {'henkilo1': {'nimi': 'Matti', 'ikä': 26, 'kaupunki': 'Helsinki'}, 'henkilo2': {'nimi': 'Liisa', 'ikä': 30, 'kaupunki': 'Tampere'}}\n",
      "Liisan kaupunki: Tampere\n"
     ]
    }
   ],
   "source": [
    "\n",
    "# Harjoituksen ratkaisu\n",
    "ihmiset = {\n",
    "    \"henkilo1\": {\"nimi\": \"Matti\", \"ikä\": 26, \"kaupunki\": \"Helsinki\"},\n",
    "    \"henkilo2\": {\"nimi\": \"Liisa\", \"ikä\": 30, \"kaupunki\": \"Tampere\"}\n",
    "}\n",
    "print(\"Molempien tiedot:\", ihmiset)\n",
    "print(\"Liisan kaupunki:\", ihmiset[\"henkilo2\"][\"kaupunki\"])\n"
   ]
  },
  {
   "cell_type": "markdown",
   "id": "d5f9ead5",
   "metadata": {},
   "source": [
    "## Harjoitus 5: Sanakirjan metodit\n"
   ]
  },
  {
   "cell_type": "markdown",
   "id": "7dd3bc1e",
   "metadata": {},
   "source": [
    "1. Käytä seuraavia metodeja ja näytä niiden tulokset:\n",
    "   - `keys()` - Tulostaa kaikki sanakirjan avaimet.\n",
    "   - `values()` - Tulostaa kaikki sanakirjan arvot.\n",
    "   - `get()` - Hae henkilön ammatti käyttäen `get`-metodia.\n",
    "2. Poista avain `\"kaupunki\"` sanakirjasta.\n"
   ]
  },
  {
   "cell_type": "code",
   "execution_count": 5,
   "id": "222fc581",
   "metadata": {},
   "outputs": [
    {
     "name": "stdout",
     "output_type": "stream",
     "text": [
      "Avaimet: dict_keys(['nimi', 'ikä', 'kaupunki', 'ammatti'])\n",
      "Arvot: dict_values(['Matti', 26, 'Helsinki', 'insinööri'])\n",
      "Ammatti: insinööri\n",
      "Sanakirja ilman kaupunkia: {'nimi': 'Matti', 'ikä': 26, 'ammatti': 'insinööri'}\n"
     ]
    }
   ],
   "source": [
    "\n",
    "# Harjoituksen ratkaisu\n",
    "print(\"Avaimet:\", henkilo.keys())\n",
    "print(\"Arvot:\", henkilo.values())\n",
    "print(\"Ammatti:\", henkilo.get(\"ammatti\"))\n",
    "henkilo.pop(\"kaupunki\")\n",
    "print(\"Sanakirja ilman kaupunkia:\", henkilo)\n"
   ]
  }
 ],
 "metadata": {
  "kernelspec": {
   "display_name": "Python 3",
   "language": "python",
   "name": "python3"
  },
  "language_info": {
   "codemirror_mode": {
    "name": "ipython",
    "version": 3
   },
   "file_extension": ".py",
   "mimetype": "text/x-python",
   "name": "python",
   "nbconvert_exporter": "python",
   "pygments_lexer": "ipython3",
   "version": "3.12.3"
  }
 },
 "nbformat": 4,
 "nbformat_minor": 5
}
