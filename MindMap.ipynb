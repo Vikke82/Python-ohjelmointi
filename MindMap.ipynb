{
 "cells": [
  {
   "cell_type": "markdown",
   "metadata": {},
   "source": [
    "Tällä notebookilla voit luoda erilaisia mindmappeja\n"
   ]
  },
  {
   "cell_type": "code",
   "execution_count": 10,
   "metadata": {},
   "outputs": [],
   "source": [
    "#pip install networkx, matplotlib\n",
    "import networkx as nx\n",
    "import matplotlib.pyplot as plt\n",
    "\n"
   ]
  },
  {
   "cell_type": "code",
   "execution_count": 11,
   "metadata": {},
   "outputs": [],
   "source": [
    "G = nx.DiGraph()\n",
    "\n",
    "# Add nodes (topics or ideas)\n",
    "G.add_node(\"DigiMaisema\")\n",
    "G.add_node(\"Työ\")\n",
    "G.add_node(\"Vapaa-aika\")\n",
    "G.add_node(\"Opetus\")\n",
    "G.add_node(\"Tietokannat\")\n",
    "G.add_node(\"Matematiikka\")\n",
    "G.add_node(\"Data-analyysi\")\n",
    "G.add_node(\"Fysiikka\")\n",
    "G.add_node(\"Ohjelmointi\")\n",
    "G.add_node(\"TKI\")\n",
    "G.add_node(\"Python\")\n",
    "G.add_node(\"React\")\n",
    "G.add_node(\"Web\")\n",
    "G.add_node(\"Visual Studio Code\")\n",
    "G.add_node(\"Moodle\")\n",
    "G.add_node(\"Peppi\")\n",
    "G.add_node(\"Outlook\")\n",
    "G.add_node(\"Teams\")\n",
    "G.add_node(\"OneDrive\")\n",
    "G.add_node(\"Google\")\n",
    "\n",
    "G.add_node(\"Copilot\")\n",
    "G.add_node(\"ChatGpt\")\n",
    "G.add_node(\"Bard\")\n",
    "G.add_node(\"Pictory\")\n",
    "G.add_node(\"ThingLink\")\n",
    "\n",
    "G.add_node(\"TensorFlow\")\n",
    "G.add_node(\"Keras\")\n",
    "G.add_node(\"PyTorch\")\n",
    "\n",
    "\n",
    "# Add edges (relationships between ideas)\n",
    "G.add_edge(\"DigiMaisema\", \"Työ\")\n",
    "G.add_edge(\"DigiMaisema\", \"Vapaa-aika\")\n",
    "G.add_edge(\"Työ\", \"Opetus\")\n",
    "G.add_edge(\"Työ\", \"TKI\")\n",
    "G.add_edge(\"Opetus\", \"Ohjelmointi\")\n",
    "G.add_edge(\"Opetus\", \"Tietokannat\")\n",
    "G.add_edge(\"Opetus\", \"Matematiikka\")\n",
    "G.add_edge(\"Opetus\", \"Data-analyysi\")\n",
    "G.add_edge(\"Opetus\", \"Fysiikka\")\n",
    "G.add_edge(\"Opetus\", \"Moodle\")\n",
    "G.add_edge(\"Opetus\", \"Peppi\")\n",
    "G.add_edge(\"Opetus\", \"Outlook\")\n",
    "G.add_edge(\"Opetus\", \"Teams\")\n",
    "G.add_edge(\"Opetus\", \"OneDrive\")\n",
    "G.add_edge(\"Opetus\", \"Google\")\n",
    "G.add_edge(\"Opetus\", \"ChatGpt\")\n",
    "G.add_edge(\"Ohjelmointi\", \"Python\")\n",
    "G.add_edge(\"Ohjelmointi\", \"React\")\n",
    "G.add_edge(\"Ohjelmointi\", \"Web\")\n",
    "G.add_edge(\"Ohjelmointi\", \"Visual Studio Code\")\n",
    "G.add_edge(\"Ohjelmointi\", \"Copilot\")\n",
    "G.add_edge(\"Vapaa-aika\", \"Google\")\n",
    "G.add_edge(\"Vapaa-aika\", \"ChatGpt\")\n",
    "G.add_edge(\"Opetus\", \"ThingLink\")\n",
    "G.add_edge(\"Opetus\", \"Bard\")\n",
    "G.add_edge(\"Opetus\", \"Pictory\")\n",
    "G.add_edge(\"Data-analyysi\", \"TensorFlow\")\n",
    "G.add_edge(\"Data-analyysi\", \"Keras\")\n",
    "G.add_edge(\"Data-analyysi\", \"PyTorch\")\n",
    "\n"
   ]
  },
  {
   "cell_type": "code",
   "execution_count": 12,
   "metadata": {},
   "outputs": [],
   "source": [
    "#%matplotlib qt\n",
    "# pip install pygraphviz\n",
    "#pos = nx.spring_layout(G)  # You can choose different layout options\n",
    "pos = nx.circular_layout(G)\n",
    " \n",
    "labels = {node: node for node in G.nodes()}\n",
    "nx.draw(G, pos, labels=labels, with_labels=True, node_size=1000, node_color=\"skyblue\", font_size=10)\n",
    "\n",
    "plt.savefig(\"mindmap.png\")\n",
    "plt.show()\n"
   ]
  }
 ],
 "metadata": {
  "kernelspec": {
   "display_name": "Python 3",
   "language": "python",
   "name": "python3"
  },
  "language_info": {
   "codemirror_mode": {
    "name": "ipython",
    "version": 3
   },
   "file_extension": ".py",
   "mimetype": "text/x-python",
   "name": "python",
   "nbconvert_exporter": "python",
   "pygments_lexer": "ipython3",
   "version": "3.12.3"
  },
  "orig_nbformat": 4
 },
 "nbformat": 4,
 "nbformat_minor": 2
}
