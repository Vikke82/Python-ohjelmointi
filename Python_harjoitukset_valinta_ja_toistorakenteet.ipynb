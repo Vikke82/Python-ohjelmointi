{
 "cells": [
  {
   "cell_type": "markdown",
   "id": "f202f3ca",
   "metadata": {},
   "source": [
    "# Python Harjoituksia: Valinta- ja Toistorakenteet\n"
   ]
  },
  {
   "cell_type": "markdown",
   "id": "04ca2b77",
   "metadata": {},
   "source": [
    "## Harjoitus 1: Valintarakenteet (if, elif, else)\n"
   ]
  },
  {
   "cell_type": "code",
   "execution_count": null,
   "id": "3e2f8f2f",
   "metadata": {},
   "outputs": [],
   "source": [
    "\n",
    "# Tehtävä: Kirjoita ohjelma, joka lukee käyttäjän antaman kokonaisluvun\n",
    "# ja tulostaa, onko luku positiivinen, negatiivinen vai nolla.\n",
    "\n",
    "luku = int(input(\"Anna kokonaisluku: \"))\n",
    "\n",
    "if luku > 0:\n",
    "    print(\"Luku on positiivinen.\")\n",
    "elif luku < 0:\n",
    "    print(\"Luku on negatiivinen.\")\n",
    "else:\n",
    "    print(\"Luku on nolla.\")\n"
   ]
  },
  {
   "cell_type": "code",
   "execution_count": null,
   "id": "320af71a",
   "metadata": {},
   "outputs": [],
   "source": [
    "\n",
    "# Tehtävä: Pyydä käyttäjän ikä ja kerro, onko hän alaikäinen (alle 18),\n",
    "# täysi-ikäinen (18-64) vai eläkeläinen (65+).\n",
    "\n",
    "ika = int(input(\"Anna ikäsi: \"))\n",
    "\n",
    "if ika < 18:\n",
    "    print(\"Olet alaikäinen.\")\n",
    "elif ika < 65:\n",
    "    print(\"Olet täysi-ikäinen.\")\n",
    "else:\n",
    "    print(\"Olet eläkeläinen.\")\n"
   ]
  },
  {
   "cell_type": "markdown",
   "id": "bd1d1f77",
   "metadata": {},
   "source": [
    "## Harjoitus 2: Toistorakenteet (while, for)\n"
   ]
  },
  {
   "cell_type": "code",
   "execution_count": null,
   "id": "24762cc0",
   "metadata": {},
   "outputs": [],
   "source": [
    "\n",
    "# Tehtävä: Pyydä käyttäjältä lukuja ja laske niiden summa,\n",
    "# kunnes käyttäjä syöttää luvun 0.\n",
    "\n",
    "summa = 0\n",
    "while True:\n",
    "    luku = int(input(\"Anna luku (0 lopettaa): \"))\n",
    "    if luku == 0:\n",
    "        break\n",
    "    summa += luku\n",
    "\n",
    "print(f\"Lukujen summa on: {summa}\")\n"
   ]
  },
  {
   "cell_type": "code",
   "execution_count": null,
   "id": "3bf2988b",
   "metadata": {},
   "outputs": [],
   "source": [
    "\n",
    "# Tehtävä: Tulosta kaikki parilliset luvut väliltä 1-50.\n",
    "\n",
    "for luku in range(1, 51):\n",
    "    if luku % 2 == 0:\n",
    "        print(luku, end=\" \")\n"
   ]
  },
  {
   "cell_type": "code",
   "execution_count": null,
   "id": "fe2ccbdd",
   "metadata": {},
   "outputs": [],
   "source": [
    "\n",
    "# Tehtävä: Pyydä käyttäjältä sana ja tulosta jokainen kirjain omalle rivilleen.\n",
    "\n",
    "sana = input(\"Anna sana: \")\n",
    "for kirjain in sana:\n",
    "    print(kirjain)\n"
   ]
  },
  {
   "cell_type": "markdown",
   "id": "18b07eec",
   "metadata": {},
   "source": [
    "## Harjoitus 3: Yhdistettyjä Valinta- ja Toistorakenteita\n"
   ]
  },
  {
   "cell_type": "code",
   "execution_count": null,
   "id": "6ee53fb0",
   "metadata": {},
   "outputs": [],
   "source": [
    "\n",
    "# Tehtävä: Kysy käyttäjältä positiivinen kokonaisluku ja tulosta sen kertotaulu (1-10).\n",
    "\n",
    "luku = int(input(\"Anna positiivinen kokonaisluku: \"))\n",
    "\n",
    "print(f\"{luku}:n kertotaulu\")\n",
    "for i in range(1, 11):\n",
    "    print(f\"{luku} x {i} = {luku * i}\")\n"
   ]
  },
  {
   "cell_type": "code",
   "execution_count": null,
   "id": "d4dc7a10",
   "metadata": {},
   "outputs": [],
   "source": [
    "\n",
    "# Tehtävä: Pyydä käyttäjältä merkkijono ja tarkista, onko se palindromi.\n",
    "\n",
    "merkkijono = input(\"Anna merkkijono: \")\n",
    "if merkkijono == merkkijono[::-1]:\n",
    "    print(\"Merkkijono on palindromi.\")\n",
    "else:\n",
    "    print(\"Merkkijono ei ole palindromi.\")\n"
   ]
  }
 ],
 "metadata": {
  "language_info": {
   "name": "python"
  }
 },
 "nbformat": 4,
 "nbformat_minor": 5
}
