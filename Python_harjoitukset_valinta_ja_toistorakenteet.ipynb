{
 "cells": [
  {
   "cell_type": "markdown",
   "id": "f202f3ca",
   "metadata": {},
   "source": [
    "# Python Harjoituksia: Valinta- ja Toistorakenteet\n"
   ]
  },
  {
   "cell_type": "markdown",
   "id": "04ca2b77",
   "metadata": {},
   "source": [
    "## Harjoitus 1: Valintarakenteet (if, elif, else)\n"
   ]
  },
  {
   "cell_type": "code",
   "execution_count": null,
   "id": "3e2f8f2f",
   "metadata": {},
   "outputs": [],
   "source": [
    "\n",
    "# Tehtävä: Kirjoita ohjelma, joka lukee käyttäjän antaman kokonaisluvun\n",
    "# ja tulostaa, onko luku positiivinen, negatiivinen vai nolla.\n",
    "\n",
    "teksti = input(\"Anna kokonaisluku: \")\n",
    "luku = int(teksti)\n",
    "\n",
    "if luku > 0:\n",
    "    print(\"Luku on positiivinen.\")\n",
    "elif luku < 0:\n",
    "    print(\"Luku on negatiivinen.\")\n",
    "else:\n",
    "    print(\"Luku on nolla.\")\n"
   ]
  },
  {
   "cell_type": "code",
   "execution_count": 9,
   "id": "06333ce3",
   "metadata": {},
   "outputs": [
    {
     "name": "stdout",
     "output_type": "stream",
     "text": [
      "Luku on:  0\n"
     ]
    }
   ],
   "source": [
    "print(\"Luku on: \", luku)"
   ]
  },
  {
   "cell_type": "code",
   "execution_count": null,
   "id": "320af71a",
   "metadata": {},
   "outputs": [],
   "source": [
    "\n",
    "# Tehtävä: Pyydä käyttäjän ikä ja kerro, onko hän alaikäinen (alle 18),\n",
    "# täysi-ikäinen (18-64) vai eläkeläinen (65+).\n",
    "\n",
    "ika = int(input(\"Anna ikäsi: \"))\n",
    "\n",
    "if ika < 18:\n",
    "    print(\"Olet alaikäinen.\")\n",
    "elif ika < 65:\n",
    "    print(\"Olet täysi-ikäinen.\")\n",
    "else:\n",
    "    print(\"Olet eläkeläinen.\")\n"
   ]
  },
  {
   "cell_type": "markdown",
   "id": "bd1d1f77",
   "metadata": {},
   "source": [
    "## Harjoitus 2: Toistorakenteet (while, for)\n"
   ]
  },
  {
   "cell_type": "code",
   "execution_count": 15,
   "id": "24762cc0",
   "metadata": {},
   "outputs": [
    {
     "name": "stdout",
     "output_type": "stream",
     "text": [
      "Lukujen summa on: 5\n",
      "Lukujen summa on: 81\n",
      "Lukujen summa on: 88\n",
      "Lukujen summa on: 142\n"
     ]
    }
   ],
   "source": [
    "\n",
    "# Tehtävä: Pyydä käyttäjältä lukuja ja laske niiden summa,\n",
    "# kunnes käyttäjä syöttää tekstin s. Voidaan käyttää vaikka datan vastaanottoon, eli otetaan dataa vastaan kunnes tulee ns. lopetusmerkki, tässä esim \"s\"\n",
    "\n",
    "summa = 0\n",
    "i = 0\n",
    "while True:\n",
    "    teksti = input(\"Anna luku (s lopettaa silmukan): \")\n",
    "    try:\n",
    "        luku = int(teksti)\n",
    "    except ValueError:\n",
    "        luku = 0\n",
    "        if teksti == \"s\":\n",
    "            break\n",
    "    summa += luku\n",
    "    i += 1\n",
    "    if i == 5:\n",
    "        break\n",
    "    \n",
    "\n",
    "    print(f\"Lukujen summa on: {summa}\")\n"
   ]
  },
  {
   "cell_type": "code",
   "execution_count": 17,
   "id": "b2914710",
   "metadata": {},
   "outputs": [
    {
     "name": "stdout",
     "output_type": "stream",
     "text": [
      "Lukujen summa on: 56\n",
      "Lukujen summa on: 101\n"
     ]
    }
   ],
   "source": [
    "# sama tehtävä for-silmukalla\n",
    "\n",
    "summa = 0 \n",
    "teksti = \"\"\n",
    "i = 0\n",
    "for i in range(5):\n",
    "    teksti = input(\"Anna luku (s lopettaa silmukan): \")\n",
    "    try:\n",
    "        luku = int(teksti)\n",
    "    except ValueError:\n",
    "        luku = 0\n",
    "        if teksti == \"s\":\n",
    "            break\n",
    "    summa += luku\n",
    "    i += 1\n",
    "\n",
    "\n",
    "    print(f\"Lukujen summa on: {summa}\")"
   ]
  },
  {
   "cell_type": "code",
   "execution_count": 19,
   "id": "3bf2988b",
   "metadata": {},
   "outputs": [
    {
     "name": "stdout",
     "output_type": "stream",
     "text": [
      "2 4 6 8 10 12 14 16 18 20 22 24 26 28 30 32 34 36 38 40 42 44 46 48 50 52 54 56 58 60 62 64 66 68 70 72 74 76 78 80 "
     ]
    }
   ],
   "source": [
    "\n",
    "# Tehtävä: Tulosta kaikki parilliset luvut väliltä 1-50.\n",
    "\n",
    "for luku in range(1, 81):\n",
    "    if luku % 2 == 0:\n",
    "        print(luku, end=\" \")\n"
   ]
  },
  {
   "cell_type": "code",
   "execution_count": 26,
   "id": "fe2ccbdd",
   "metadata": {},
   "outputs": [
    {
     "name": "stdout",
     "output_type": "stream",
     "text": [
      "['t', 'e', 'w', 'e', 'h']\n",
      "t\n"
     ]
    }
   ],
   "source": [
    "\n",
    "# Tehtävä: Pyydä käyttäjältä sana ja tulosta jokainen kirjain omalle rivilleen.\n",
    "lista = [] #alustan tyhjän listan\n",
    "sana = input(\"Anna sana: \")\n",
    "for merkki in sana:\n",
    "    #print(merkki)\n",
    "    if merkki == \"$\":\n",
    "        break\n",
    "    lista.append(merkki)\n",
    "\n",
    "print(lista)\n",
    "print(lista[0])\n"
   ]
  },
  {
   "cell_type": "markdown",
   "id": "18b07eec",
   "metadata": {},
   "source": [
    "## Harjoitus 3: Yhdistettyjä Valinta- ja Toistorakenteita\n"
   ]
  },
  {
   "cell_type": "code",
   "execution_count": 29,
   "id": "6ee53fb0",
   "metadata": {},
   "outputs": [
    {
     "name": "stdout",
     "output_type": "stream",
     "text": [
      "67:n kertotaulu\n",
      "67 x 1 = 67\n",
      "67 x 2 = 134\n",
      "67 x 3 = 201\n",
      "67 x 4 = 268\n",
      "67 x 5 = 335\n",
      "67 x 6 = 402\n",
      "67 x 7 = 469\n",
      "67 x 8 = 536\n",
      "67 x 9 = 603\n",
      "67 x 10 = 670\n"
     ]
    }
   ],
   "source": [
    "\n",
    "# Tehtävä: Kysy käyttäjältä positiivinen kokonaisluku ja tulosta sen kertotaulu (1-10).\n",
    "\n",
    "luku = int(input(\"Anna positiivinen kokonaisluku: \"))\n",
    "\n",
    "print(f\"{luku}:n kertotaulu\")\n",
    "for i in range(1, 11):\n",
    "    print(f\"{luku} x {i} = {luku * i}\")\n"
   ]
  },
  {
   "cell_type": "code",
   "execution_count": 33,
   "id": "d4dc7a10",
   "metadata": {},
   "outputs": [
    {
     "name": "stdout",
     "output_type": "stream",
     "text": [
      "Merkkijono saippuakivikauppias on palindromi.\n"
     ]
    }
   ],
   "source": [
    "\n",
    "# Tehtävä: Pyydä käyttäjältä merkkijono ja tarkista, onko se palindromi.\n",
    "\n",
    "merkkijono = input(\"Anna merkkijono: \")\n",
    "if merkkijono == merkkijono[::-1]:\n",
    "    print(\"Merkkijono \"+merkkijono+\" on palindromi.\")\n",
    "else:\n",
    "    print(\"Merkkijono ei ole palindromi.\")\n"
   ]
  },
  {
   "cell_type": "code",
   "execution_count": 38,
   "id": "4a9ce819",
   "metadata": {},
   "outputs": [
    {
     "name": "stdout",
     "output_type": "stream",
     "text": [
      "Tilinumero on väärin.\n"
     ]
    }
   ],
   "source": [
    "#testataan onko joku sana tekstissä\n",
    "teksti = \"FI490096443030\"\n",
    "sana = \"FI\"\n",
    "\n",
    "if sana in teksti:\n",
    "    print(\"Tilinumero on oikein.\")\n",
    "else:\n",
    "    print(\"Tilinumero on väärin.\")"
   ]
  }
 ],
 "metadata": {
  "kernelspec": {
   "display_name": "Python 3",
   "language": "python",
   "name": "python3"
  },
  "language_info": {
   "codemirror_mode": {
    "name": "ipython",
    "version": 3
   },
   "file_extension": ".py",
   "mimetype": "text/x-python",
   "name": "python",
   "nbconvert_exporter": "python",
   "pygments_lexer": "ipython3",
   "version": "3.11.9"
  }
 },
 "nbformat": 4,
 "nbformat_minor": 5
}
