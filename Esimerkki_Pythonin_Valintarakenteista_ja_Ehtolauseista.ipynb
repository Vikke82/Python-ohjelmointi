{
 "cells": [
  {
   "cell_type": "code",
   "execution_count": 18,
   "metadata": {},
   "outputs": [
    {
     "name": "stdout",
     "output_type": "stream",
     "text": [
      "198 on positiivinen luku.\n"
     ]
    }
   ],
   "source": [
    "# Otsikko: Pythonin Valintarakenteet ja Ehtolauseet\n",
    "\n",
    "# ### Yksinkertainen If-lause\n",
    "# Seuraavassa esimerkissä tarkistamme, onko luku positiivinen.\n",
    "# Jos ehto on tosi, tulostamme viestin.\n",
    "\n",
    "luku = 198\n",
    "\n",
    "if luku > 0:\n",
    "    print(f\"{luku} on positiivinen luku.\")"
   ]
  },
  {
   "cell_type": "code",
   "execution_count": 20,
   "metadata": {},
   "outputs": [
    {
     "name": "stdout",
     "output_type": "stream",
     "text": [
      "-6 on negatiivinen luku.\n"
     ]
    }
   ],
   "source": [
    "# ### If-else-lause\n",
    "# Seuraavaksi käsitellään tilanne, jossa luku voi olla joko positiivinen tai negatiivinen.\n",
    "# Jos ehto ei ole tosi, käytämme else-haaraa.\n",
    "\n",
    "luku = -6\n",
    "\n",
    "if luku > 0:\n",
    "    print(f\"{luku} on positiivinen luku.\")\n",
    "else:\n",
    "    print(f\"{luku} on negatiivinen luku.\")"
   ]
  },
  {
   "cell_type": "code",
   "execution_count": 8,
   "metadata": {},
   "outputs": [
    {
     "name": "stdout",
     "output_type": "stream",
     "text": [
      "0 on nolla.\n"
     ]
    }
   ],
   "source": [
    "# ### If-elif-else-rakenne\n",
    "# If-elif-else-rakenteessa voidaan lisätä useita ehtoja. \n",
    "# Tässä tarkistetaan, onko luku positiivinen, negatiivinen vai nolla.\n",
    "\n",
    "luku = 0\n",
    "\n",
    "if luku > 0:\n",
    "    print(f\"{luku} on positiivinen luku.\")\n",
    "elif luku < 0:\n",
    "    print(f\"{luku} on negatiivinen luku.\")\n",
    "else:\n",
    "    print(f\"{luku} on nolla.\")"
   ]
  },
  {
   "cell_type": "code",
   "execution_count": 9,
   "metadata": {},
   "outputs": [
    {
     "name": "stdout",
     "output_type": "stream",
     "text": [
      "Pääsy myönnetty: tervetuloa!\n"
     ]
    }
   ],
   "source": [
    "# ### Monimutkaisempi esimerkki: Käyttäjän ikä ja pääsy palveluun\n",
    "# Tässä ohjelmassa kysytään käyttäjän ikää ja päätetään ehtojen avulla, pääseekö käyttäjä käyttämään tiettyä palvelua.\n",
    "\n",
    "ikä = int(input(\"Syötä ikäsi: \"))\n",
    "\n",
    "if ikä < 13:\n",
    "    print(\"Pääsy estetty: liian nuori.\")\n",
    "elif ikä < 18:\n",
    "    print(\"Rajoitettu pääsy: alaikäinen.\")\n",
    "else:\n",
    "    print(\"Pääsy myönnetty: tervetuloa!\")"
   ]
  },
  {
   "cell_type": "code",
   "execution_count": 10,
   "metadata": {},
   "outputs": [
    {
     "name": "stdout",
     "output_type": "stream",
     "text": [
      "8 on parillinen luku.\n",
      "8 on myös positiivinen.\n"
     ]
    }
   ],
   "source": [
    "\n",
    "# ### Sisäkkäiset If-lauseet\n",
    "# Sisäkkäisillä if-lauseilla voidaan tarkentaa ehtoja. \n",
    "# Tässä esimerkissä tarkistetaan, onko luku parillinen vai pariton ja samalla onko se positiivinen, negatiivinen vai nolla.\n",
    "\n",
    "luku = 8\n",
    "\n",
    "if luku % 2 == 0:\n",
    "    print(f\"{luku} on parillinen luku.\")\n",
    "    \n",
    "    if luku > 0:\n",
    "        print(f\"{luku} on myös positiivinen.\")\n",
    "    elif luku < 0:\n",
    "        print(f\"{luku} on myös negatiivinen.\")\n",
    "    else:\n",
    "        print(f\"{luku} on nolla.\")\n",
    "else:\n",
    "    print(f\"{luku} on pariton luku.\")\n"
   ]
  },
  {
   "cell_type": "markdown",
   "metadata": {},
   "source": [
    "Ehtolauseissa voidaan käyttää myös merkkijonoja, eli tekstiä eli string-tietotyyppejä\n"
   ]
  },
  {
   "cell_type": "code",
   "execution_count": 11,
   "metadata": {},
   "outputs": [
    {
     "name": "stdout",
     "output_type": "stream",
     "text": [
      "Hei Anna!\n"
     ]
    }
   ],
   "source": [
    "# ### Merkkijonon vertailu\n",
    "# Voimme käyttää if-lauseita vertaillaksemme merkkijonoja. Tässä tarkistamme, onko käyttäjän nimi tietty.\n",
    "\n",
    "nimi = \"Anna\"\n",
    "\n",
    "if nimi == \"Anna\":\n",
    "    print(\"Hei Anna!\")\n",
    "else:\n",
    "    print(\"Et ole Anna.\")"
   ]
  },
  {
   "cell_type": "code",
   "execution_count": 12,
   "metadata": {},
   "outputs": [
    {
     "name": "stdout",
     "output_type": "stream",
     "text": [
      "Viesti liittyy Pythoniin.\n"
     ]
    }
   ],
   "source": [
    "# ### Merkkijonon osan tarkistaminen\n",
    "# Pythonissa voidaan tarkistaa, sisältääkö merkkijono toisen merkkijonon. Tämä tehdään 'in'-operaattorilla.\n",
    "\n",
    "viesti = \"Tervetuloa Python-kurssille!\"\n",
    "\n",
    "if \"Python\" in viesti:\n",
    "    print(\"Viesti liittyy Pythoniin.\")\n",
    "else:\n",
    "    print(\"Viesti ei liity Pythoniin.\")"
   ]
  },
  {
   "cell_type": "code",
   "execution_count": 13,
   "metadata": {},
   "outputs": [
    {
     "name": "stdout",
     "output_type": "stream",
     "text": [
      "Salasana on tarpeeksi pitkä.\n"
     ]
    }
   ],
   "source": [
    "# ### Merkkijonon pituuden tarkistaminen\n",
    "# Merkkijonon pituutta voidaan käyttää ehtolauseessa 'len'-funktion avulla.\n",
    "\n",
    "salasana = \"salasana123\"\n",
    "\n",
    "if len(salasana) >= 8:\n",
    "    print(\"Salasana on tarpeeksi pitkä.\")\n",
    "else:\n",
    "    print(\"Salasana on liian lyhyt.\")"
   ]
  },
  {
   "cell_type": "code",
   "execution_count": 14,
   "metadata": {},
   "outputs": [
    {
     "name": "stdout",
     "output_type": "stream",
     "text": [
      "Kaupunki alkaa H-kirjaimella.\n"
     ]
    }
   ],
   "source": [
    "# ### Merkkijonon alkukirjaimen tarkistaminen\n",
    "# Voimme tarkistaa, alkaako merkkijono tietyllä kirjaimella 'startswith'-metodilla.\n",
    "\n",
    "kaupunki = \"Helsinki\"\n",
    "\n",
    "if kaupunki.startswith(\"H\"):\n",
    "    print(\"Kaupunki alkaa H-kirjaimella.\")\n",
    "else:\n",
    "    print(\"Kaupunki ei ala H-kirjaimella.\")"
   ]
  },
  {
   "cell_type": "code",
   "execution_count": 15,
   "metadata": {},
   "outputs": [
    {
     "name": "stdout",
     "output_type": "stream",
     "text": [
      "Tervetuloa, admin!\n"
     ]
    }
   ],
   "source": [
    "# ### Merkkijonon vertailu ilman kirjainkokoa (case-insensitive)\n",
    "# Pythonin merkkijonot erottavat isot ja pienet kirjaimet, mutta voimme vertailla merkkijonoja niiden kirjainkoosta riippumatta muuttamalla ne pieniksi tai isoiksi.\n",
    "\n",
    "käyttäjänimi = \"Admin\"\n",
    "\n",
    "if käyttäjänimi.lower() == \"admin\":\n",
    "    print(\"Tervetuloa, admin!\")\n",
    "else:\n",
    "    print(\"Käyttäjänimi ei ole admin.\")"
   ]
  },
  {
   "cell_type": "code",
   "execution_count": 16,
   "metadata": {},
   "outputs": [
    {
     "name": "stdout",
     "output_type": "stream",
     "text": [
      "Väri on sininen.\n"
     ]
    }
   ],
   "source": [
    "# ### Useiden merkkijonojen tarkistus\n",
    "# Voimme tarkistaa useita eri vaihtoehtoja käyttäen if-elif-else -rakennetta.\n",
    "\n",
    "väri = \"sininen\"\n",
    "\n",
    "if väri == \"punainen\":\n",
    "    print(\"Väri on punainen.\")\n",
    "elif väri == \"sininen\":\n",
    "    print(\"Väri on sininen.\")\n",
    "elif väri == \"vihreä\":\n",
    "    print(\"Väri on vihreä.\")\n",
    "else:\n",
    "    print(\"Väriä ei tunnistettu.\")"
   ]
  },
  {
   "cell_type": "code",
   "execution_count": 17,
   "metadata": {},
   "outputs": [
    {
     "name": "stdout",
     "output_type": "stream",
     "text": [
      "Merkkijono on tyhjä.\n"
     ]
    }
   ],
   "source": [
    "\n",
    "# ### Tyhjän merkkijonon tarkistaminen\n",
    "# Joskus haluamme tarkistaa, onko merkkijono tyhjä.\n",
    "\n",
    "teksti = \"\"\n",
    "\n",
    "if teksti:\n",
    "    print(\"Merkkijono ei ole tyhjä.\")\n",
    "else:\n",
    "    print(\"Merkkijono on tyhjä.\")\n",
    "\n"
   ]
  }
 ],
 "metadata": {
  "kernelspec": {
   "display_name": "Python 3",
   "language": "python",
   "name": "python3"
  },
  "language_info": {
   "codemirror_mode": {
    "name": "ipython",
    "version": 3
   },
   "file_extension": ".py",
   "mimetype": "text/x-python",
   "name": "python",
   "nbconvert_exporter": "python",
   "pygments_lexer": "ipython3",
   "version": "3.11.9"
  }
 },
 "nbformat": 4,
 "nbformat_minor": 2
}
