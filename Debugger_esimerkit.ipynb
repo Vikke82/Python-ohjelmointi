{
 "cells": [
  {
   "cell_type": "markdown",
   "metadata": {},
   "source": [
    "You can launch a Python program through pdb via python -m pdb myscript.py.\n",
    "\n",
    "There are a few commands you can then issue, which are documented on the pdb page https://docs.python.org/3/library/pdb.html\n",
    "\n",
    "Some useful ones to remember are:\n",
    "\n",
    "b: set a breakpoint\n",
    "c: continue debugging until you hit a breakpoint\n",
    "s: step through the code\n",
    "n: to go to next line of code\n",
    "l: list source code for the current file (default: 11 lines including the line being executed)\n",
    "u: navigate up a stack frame\n",
    "d: navigate down a stack frame\n",
    "p: to print the value of an expression in the current context\n"
   ]
  },
  {
   "cell_type": "code",
   "execution_count": 7,
   "metadata": {},
   "outputs": [],
   "source": [
    "# Tämä on virheellinen syöte, joka aiheuttaa ongelman\n",
    "numerot = [1, 2, 'kolme', 4]  # Huomaa, että tässä on tekstinä 'kolme' eikä numerona\n"
   ]
  },
  {
   "cell_type": "code",
   "execution_count": 11,
   "metadata": {},
   "outputs": [
    {
     "ename": "TypeError",
     "evalue": "unsupported operand type(s) for +=: 'int' and 'str'",
     "output_type": "error",
     "traceback": [
      "\u001b[1;31m---------------------------------------------------------------------------\u001b[0m",
      "\u001b[1;31mTypeError\u001b[0m                                 Traceback (most recent call last)",
      "Cell \u001b[1;32mIn[11], line 3\u001b[0m\n\u001b[0;32m      1\u001b[0m summa \u001b[38;5;241m=\u001b[39m \u001b[38;5;241m0\u001b[39m\n\u001b[0;32m      2\u001b[0m \u001b[38;5;28;01mfor\u001b[39;00m numero \u001b[38;5;129;01min\u001b[39;00m numerot:\n\u001b[1;32m----> 3\u001b[0m     \u001b[43msumma\u001b[49m\u001b[43m \u001b[49m\u001b[38;5;241;43m+\u001b[39;49m\u001b[38;5;241;43m=\u001b[39;49m\u001b[43m \u001b[49m\u001b[43mnumero\u001b[49m\n\u001b[0;32m      5\u001b[0m \u001b[38;5;28mprint\u001b[39m(summa)\n",
      "\u001b[1;31mTypeError\u001b[0m: unsupported operand type(s) for +=: 'int' and 'str'"
     ]
    }
   ],
   "source": [
    "summa = 0\n",
    "for numero in numerot:\n",
    "    summa += numero\n",
    "\n",
    "print(summa)\n",
    "    "
   ]
  }
 ],
 "metadata": {
  "kernelspec": {
   "display_name": "Python 3",
   "language": "python",
   "name": "python3"
  },
  "language_info": {
   "codemirror_mode": {
    "name": "ipython",
    "version": 3
   },
   "file_extension": ".py",
   "mimetype": "text/x-python",
   "name": "python",
   "nbconvert_exporter": "python",
   "pygments_lexer": "ipython3",
   "version": "3.12.3"
  }
 },
 "nbformat": 4,
 "nbformat_minor": 2
}
