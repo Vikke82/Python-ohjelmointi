{
 "cells": [
  {
   "cell_type": "markdown",
   "metadata": {},
   "source": [
    "# Tiedostonkäsittely Pythonilla\n",
    "\n",
    "Tämä Jupyter Notebook sisältää erilaisia harjoituksia tiedostonkäsittelystä Pythonissa.\n"
   ]
  },
  {
   "cell_type": "markdown",
   "metadata": {},
   "source": [
    "## Harjoitus 1: Tiedoston lukeminen\n",
    "\n",
    "Lue `example.txt`-tiedoston sisältö ja tulosta sen sisältö konsoliin.\n"
   ]
  },
  {
   "cell_type": "code",
   "execution_count": 6,
   "metadata": {},
   "outputs": [
    {
     "name": "stdout",
     "output_type": "stream",
     "text": [
      "{\"nimi\": \"Matti\", \"ikÃ¤\": 26, \"kaupunki\": \"Helsinki\"}\n"
     ]
    }
   ],
   "source": [
    "# Tiedoston lukeminen \n",
    "with open(r'data.json', 'r') as file:\n",
    "    # content = file.read()\n",
    "    # print(content)\n",
    "    \n",
    "    for line in file:\n",
    "        print(line.strip())"
   ]
  },
  {
   "cell_type": "markdown",
   "metadata": {},
   "source": [
    "## Harjoitus 2: Tiedoston rivien käsittely\n",
    "\n",
    "Lue tiedosto rivittäin ja tulosta jokainen rivi, jossa on vähintään 10 merkkiä.\n"
   ]
  },
  {
   "cell_type": "code",
   "execution_count": 10,
   "metadata": {},
   "outputs": [
    {
     "name": "stdout",
     "output_type": "stream",
     "text": [
      "Tässä on jotain tekstiä\n",
      "Toinen rivi\n",
      "Kolmas rivi\n"
     ]
    }
   ],
   "source": [
    "# Tiedoston rivien käsittely\n",
    "with open(r'data\\example.txt', 'r', encoding='utf-8') as file:\n",
    "    for line in file:\n",
    "        if len(line.strip()) >= 10:\n",
    "            print(line.strip())"
   ]
  },
  {
   "cell_type": "code",
   "execution_count": 15,
   "id": "efa459c8",
   "metadata": {},
   "outputs": [
    {
     "name": "stdout",
     "output_type": "stream",
     "text": [
      "Data1: Python on kiva\n",
      "Data2: Python on myös käärme\n",
      "['Data1: Python on kiva', 'Data2: Python on myös käärme']\n"
     ]
    }
   ],
   "source": [
    "# Tiedoston rivien käsittely\n",
    "data_lista = []\n",
    "with open(r'data\\example.txt', 'r', encoding='utf-8') as file:\n",
    "    for line in file:\n",
    "        if \"Data\" in line:\n",
    "            print(line.strip())\n",
    "            data_lista.append(line.strip())\n",
    "print(data_lista)"
   ]
  },
  {
   "cell_type": "markdown",
   "metadata": {},
   "source": [
    "## Harjoitus 3: Tiedoston kirjoittaminen\n",
    "\n",
    "Kirjoita uuteen tiedostoon `output.txt` sisältö, jossa jokainen rivi on isolla kirjoitettu versio `example.txt`-tiedoston riveistä.\n"
   ]
  },
  {
   "cell_type": "code",
   "execution_count": null,
   "metadata": {},
   "outputs": [],
   "source": [
    "# Tiedoston kirjoittaminen\n",
    "with open('example.txt', 'r') as infile, open('output.txt', 'w') as outfile:\n",
    "    for line in infile:\n",
    "        outfile.write(line.upper())"
   ]
  },
  {
   "cell_type": "markdown",
   "metadata": {},
   "source": [
    "## Harjoitus 4: Tiedoston muokkaaminen\n",
    "\n",
    "Luo uusi tiedosto, jossa `example.txt`-tiedoston rivit on numeroitu muodossa `1: [rivi]`, `2: [rivi]`, jne.\n"
   ]
  },
  {
   "cell_type": "code",
   "execution_count": null,
   "metadata": {},
   "outputs": [],
   "source": [
    "# Tiedoston muokkaaminen\n",
    "with open('example.txt', 'r') as infile, open('numbered.txt', 'w') as outfile:\n",
    "    for idx, line in enumerate(infile, start=1):\n",
    "        outfile.write(f\"{idx}: {line}\")"
   ]
  },
  {
   "cell_type": "markdown",
   "metadata": {},
   "source": [
    "## Harjoitus 5: Binääritiedoston käsittely\n",
    "\n",
    "Lue kuva- tai muu binääritiedosto ja kopioi sen sisältö uuteen tiedostoon.\n"
   ]
  },
  {
   "cell_type": "code",
   "execution_count": null,
   "metadata": {},
   "outputs": [],
   "source": [
    "# Binääritiedoston käsittely\n",
    "with open('example.jpg', 'rb') as infile, open('copy.jpg', 'wb') as outfile:\n",
    "    data = infile.read()\n",
    "    outfile.write(data)"
   ]
  },
  {
   "cell_type": "code",
   "execution_count": null,
   "id": "de295163",
   "metadata": {},
   "outputs": [],
   "source": [
    "import zipfile\n",
    "\n",
    "# Avaa ZIP-tiedosto\n",
    "with zipfile.ZipFile('example.zip', 'r') as zip_ref:\n",
    "    # Listaa kaikki tiedostot ZIP-paketissa\n",
    "    print(zip_ref.namelist())\n",
    "    \n",
    "    # Lue tietty tiedosto ZIP-paketista\n",
    "    with zip_ref.open('file_inside_zip.txt') as file:\n",
    "        content = file.read().decode('utf-8')\n",
    "        print(content)\n"
   ]
  },
  {
   "cell_type": "code",
   "execution_count": null,
   "id": "61e45480",
   "metadata": {},
   "outputs": [],
   "source": [
    "import tarfile\n",
    "\n",
    "# Avaa TAR-tiedosto\n",
    "with tarfile.open('example.tar.gz', 'r:gz') as tar:\n",
    "    # Listaa kaikki tiedostot TAR-paketissa\n",
    "    print(tar.getnames())\n",
    "    \n",
    "    # Lue tietty tiedosto TAR-paketista\n",
    "    file = tar.extractfile('file_inside_tar.txt')\n",
    "    if file:\n",
    "        content = file.read().decode('utf-8')\n",
    "        print(content)\n"
   ]
  }
 ],
 "metadata": {
  "kernelspec": {
   "display_name": "Python 3",
   "language": "python",
   "name": "python3"
  },
  "language_info": {
   "codemirror_mode": {
    "name": "ipython",
    "version": 3
   },
   "file_extension": ".py",
   "mimetype": "text/x-python",
   "name": "python",
   "nbconvert_exporter": "python",
   "pygments_lexer": "ipython3",
   "version": "3.12.3"
  }
 },
 "nbformat": 4,
 "nbformat_minor": 5
}
